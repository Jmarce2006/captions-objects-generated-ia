{
 "cells": [
  {
   "cell_type": "code",
   "execution_count": 3,
   "metadata": {},
   "outputs": [
    {
     "name": "stdout",
     "output_type": "stream",
     "text": [
      "Defaulting to user installation because normal site-packages is not writeable\n",
      "Collecting requests\n",
      "  Downloading requests-2.32.3-py3-none-any.whl (64 kB)\n",
      "\u001b[K     |████████████████████████████████| 64 kB 1.7 MB/s eta 0:00:01\n",
      "\u001b[?25hCollecting certifi>=2017.4.17\n",
      "  Downloading certifi-2025.1.31-py3-none-any.whl (166 kB)\n",
      "\u001b[K     |████████████████████████████████| 166 kB 3.1 MB/s eta 0:00:01\n",
      "\u001b[?25hCollecting idna<4,>=2.5\n",
      "  Downloading idna-3.10-py3-none-any.whl (70 kB)\n",
      "\u001b[K     |████████████████████████████████| 70 kB 16.2 MB/s eta 0:00:01\n",
      "\u001b[?25hCollecting charset-normalizer<4,>=2\n",
      "  Downloading charset_normalizer-3.4.1-cp39-cp39-macosx_10_9_universal2.whl (197 kB)\n",
      "\u001b[K     |████████████████████████████████| 197 kB 11.3 MB/s eta 0:00:01\n",
      "\u001b[?25hCollecting urllib3<3,>=1.21.1\n",
      "  Downloading urllib3-2.3.0-py3-none-any.whl (128 kB)\n",
      "\u001b[K     |████████████████████████████████| 128 kB 10.4 MB/s eta 0:00:01\n",
      "\u001b[?25hInstalling collected packages: urllib3, idna, charset-normalizer, certifi, requests\n",
      "Successfully installed certifi-2025.1.31 charset-normalizer-3.4.1 idna-3.10 requests-2.32.3 urllib3-2.3.0\n",
      "\u001b[33mWARNING: You are using pip version 21.2.4; however, version 25.0.1 is available.\n",
      "You should consider upgrading via the '/Applications/Xcode.app/Contents/Developer/usr/bin/python3 -m pip install --upgrade pip' command.\u001b[0m\n",
      "Note: you may need to restart the kernel to use updated packages.\n"
     ]
    }
   ],
   "source": [
    "%pip install requests"
   ]
  },
  {
   "cell_type": "code",
   "execution_count": 5,
   "metadata": {},
   "outputs": [
    {
     "data": {
      "text/plain": [
       "['./uploads/random_0.jpg',\n",
       " './uploads/random_1.jpg',\n",
       " './uploads/random_2.jpg',\n",
       " './uploads/random_3.jpg',\n",
       " './uploads/random_4.jpg',\n",
       " './uploads/random_5.jpg',\n",
       " './uploads/random_6.jpg',\n",
       " './uploads/random_7.jpg',\n",
       " './uploads/random_8.jpg',\n",
       " './uploads/random_9.jpg',\n",
       " './uploads/random_10.jpg',\n",
       " './uploads/random_11.jpg',\n",
       " './uploads/random_12.jpg',\n",
       " './uploads/random_13.jpg',\n",
       " './uploads/random_14.jpg',\n",
       " './uploads/random_15.jpg',\n",
       " './uploads/random_16.jpg',\n",
       " './uploads/random_17.jpg',\n",
       " './uploads/random_18.jpg',\n",
       " './uploads/random_19.jpg',\n",
       " './uploads/random_20.jpg',\n",
       " './uploads/random_21.jpg',\n",
       " './uploads/random_22.jpg',\n",
       " './uploads/random_23.jpg',\n",
       " './uploads/random_24.jpg',\n",
       " './uploads/random_25.jpg',\n",
       " './uploads/random_26.jpg',\n",
       " './uploads/random_27.jpg',\n",
       " './uploads/random_28.jpg',\n",
       " './uploads/random_29.jpg']"
      ]
     },
     "execution_count": 5,
     "metadata": {},
     "output_type": "execute_result"
    }
   ],
   "source": [
    "import os\n",
    "import requests\n",
    "\n",
    "# Set up the folder to save images\n",
    "save_path = \"./uploads\"\n",
    "os.makedirs(save_path, exist_ok=True)\n",
    "\n",
    "# Pexels API (free images source)\n",
    "PEXELS_API_KEY = \"GdHHVNyzyK9F0n4JswQ6kSLcVC6faNy2lURFEGN75iEJHWTsZftVz5M5\"\n",
    "headers = {\"Authorization\": PEXELS_API_KEY}\n",
    "query = \"nature\"\n",
    "per_page = 30\n",
    "\n",
    "# Fetch images from Pexels\n",
    "response = requests.get(f\"https://api.pexels.com/v1/search?query={query}&per_page={per_page}\", headers=headers)\n",
    "data = response.json()\n",
    "\n",
    "# Download and save images\n",
    "image_paths = []\n",
    "for i, photo in enumerate(data[\"photos\"]):\n",
    "    img_url = photo[\"src\"][\"large\"]\n",
    "    img_data = requests.get(img_url).content\n",
    "    img_filename = f\"random_{i}.jpg\"\n",
    "    img_filepath = os.path.join(save_path, img_filename)\n",
    "\n",
    "    with open(img_filepath, \"wb\") as f:\n",
    "        f.write(img_data)\n",
    "\n",
    "    image_paths.append(img_filepath)\n",
    "\n",
    "# List the downloaded images\n",
    "image_paths\n"
   ]
  }
 ],
 "metadata": {
  "kernelspec": {
   "display_name": "Python 3",
   "language": "python",
   "name": "python3"
  },
  "language_info": {
   "codemirror_mode": {
    "name": "ipython",
    "version": 3
   },
   "file_extension": ".py",
   "mimetype": "text/x-python",
   "name": "python",
   "nbconvert_exporter": "python",
   "pygments_lexer": "ipython3",
   "version": "3.9.6"
  }
 },
 "nbformat": 4,
 "nbformat_minor": 2
}
